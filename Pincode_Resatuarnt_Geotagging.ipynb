{
  "nbformat": 4,
  "nbformat_minor": 0,
  "metadata": {
    "kernelspec": {
      "display_name": "Python 3.6 with Spark",
      "language": "python3",
      "name": "python36"
    },
    "language_info": {
      "codemirror_mode": {
        "name": "ipython",
        "version": 3
      },
      "file_extension": ".py",
      "mimetype": "text/x-python",
      "name": "python",
      "nbconvert_exporter": "python",
      "pygments_lexer": "ipython3",
      "version": "3.6.8"
    },
    "colab": {
      "name": "Week5.ipynb",
      "provenance": []
    }
  },
  "cells": [
    {
      "cell_type": "markdown",
      "metadata": {
        "id": "IZys-X-hUXPz"
      },
      "source": [
        "# **Pincode-Specific local restaurant Geo-tagging using Foursquare API**"
      ]
    },
    {
      "cell_type": "markdown",
      "metadata": {
        "id": "hiwVCnnpU6tL"
      },
      "source": [
        "## This project utilizes Foursquare API to answer the Questions like : How many types of foods are available in a restaurant? What type of restaurants are present in a particular area? Which is the most nearest to me with good rating?"
      ]
    },
    {
      "cell_type": "code",
      "metadata": {
        "id": "PgX_pQBaUYy6"
      },
      "source": [
        "# Enter your Info\n",
        "Country= \"india\"\n",
        "State= 'karnataka'\n",
        "City= 'bangalore'\n",
        "Area= 'Agram'"
      ],
      "execution_count": null,
      "outputs": []
    },
    {
      "cell_type": "code",
      "metadata": {
        "id": "wPhcgI2GUUJc",
        "outputId": "3b42aa0c-84c9-424e-edca-6e735dc9e77c"
      },
      "source": [
        "# 1\n",
        "import numpy as np # library to handle data in a vectorized manner\n",
        "\n",
        "import pandas as pd # library for data analsysis\n",
        "pd.set_option('display.max_columns', None)\n",
        "pd.set_option('display.max_rows', None)\n",
        "\n",
        "import json # library to handle JSON files\n",
        "\n",
        "!conda install -c conda-forge geopy --yes # uncomment this line if you haven't completed the Foursquare API lab\n",
        "from geopy.geocoders import Nominatim # convert an address into latitude and longitude values\n",
        "\n",
        "import requests # library to handle requests\n",
        "from pandas.io.json import json_normalize # tranform JSON file into a pandas dataframe\n",
        "\n",
        "# insall lxml to read an html file\n",
        "!pip install lxml"
      ],
      "execution_count": null,
      "outputs": [
        {
          "output_type": "stream",
          "text": [
            "Collecting package metadata (current_repodata.json): done\n",
            "Solving environment: done\n",
            "\n",
            "# All requested packages already installed.\n",
            "\n",
            "Collecting lxml\n",
            "  Using cached https://files.pythonhosted.org/packages/dd/ba/a0e6866057fc0bbd17192925c1d63a3b85cf522965de9bc02364d08e5b84/lxml-4.5.0-cp36-cp36m-manylinux1_x86_64.whl\n",
            "Installing collected packages: lxml\n",
            "Successfully installed lxml-4.5.0\n",
            "\u001b[33mTarget directory /home/spark/shared/user-libs/python3.6/lxml-4.5.0.dist-info already exists. Specify --upgrade to force replacement.\u001b[0m\n",
            "\u001b[33mTarget directory /home/spark/shared/user-libs/python3.6/lxml already exists. Specify --upgrade to force replacement.\u001b[0m\n"
          ],
          "name": "stdout"
        }
      ]
    },
    {
      "cell_type": "code",
      "metadata": {
        "id": "B1WNP4jFUUJ2",
        "outputId": "b7d52781-1b11-4eb1-fcca-e8617d699eea"
      },
      "source": [
        "# Read the html file\n",
        "df = pd.read_html(r'https://www.mapsofindia.com/pincode/india/{}/{}/'.format(State, City), header = 1)\n",
        "df = pd.DataFrame(df[0])\n",
        "df =df.sort_values(by='Location', ascending=True)\n",
        "# df= df.drop_duplicates(subset=\"Pincode\", keep=\"last\")\n",
        "\n",
        "# Read address for each locality\n",
        "Stat= df.iloc[0,2]\n",
        "list=[]\n",
        "for loc, pin, dis in zip(df['Location'], df['Pincode'], df['District']):\n",
        "    try:\n",
        "# Use nested try/ Except to handle the error[] alternatively and finally pass to final 'Except'\n",
        "        try:\n",
        "            address = '{}, {}'.format(pin, Stat)\n",
        "            geolocator = Nominatim(user_agent=\"Ind_Explorer\", timeout = 10)\n",
        "            location = geolocator.geocode(address)\n",
        "            lat = location.latitude\n",
        "            lng = location.longitude\n",
        "            list.append([(\n",
        "                loc,\n",
        "                pin,\n",
        "                dis,\n",
        "                lat,\n",
        "                lng)])\n",
        "    \n",
        "        except:\n",
        "            address = '{}, {}'.format(loc, Stat)\n",
        "            geolocator = Nominatim(user_agent=\"BLR_explorer\", timeout = 10)\n",
        "            location = geolocator.geocode(address)\n",
        "            lat = location.latitude\n",
        "            lng = location.longitude\n",
        "            list.append([(\n",
        "                loc,\n",
        "                pin,\n",
        "                dis,\n",
        "                lat,\n",
        "                lng)])\n",
        "    except:\n",
        "        pass\n",
        "\n",
        "fil_df = pd.DataFrame([item for venue in list for item in venue])\n",
        "fil_df.columns = ['Location', \n",
        "                    'Pincode',\n",
        "                    'District', \n",
        "                    'Latitude',\n",
        "                    'Longitude']\n",
        "\n",
        "# read client information\n",
        "CLIENT_ID = 'T3MED4EITMTO2OCQXNLAPZPTXP3T0LIOONZ4FI2LYIG2ZU0H' # your Foursquare ID\n",
        "CLIENT_SECRET = 'N2GKGR134RH1GAFSG4WPSB1EFRCJYOYCWED5CPGZZC3KDWRM' # your Foursquare Secret\n",
        "VERSION = '20180604'\n",
        "\n",
        "# Read the venues from Foursquare API\n",
        "venues_list=[]\n",
        "radius=1500\n",
        "LIMIT =100\n",
        "\n",
        "for loc, dis, lat, lng in zip(fil_df['Location'], fil_df['District'], fil_df['Latitude'], fil_df['Longitude']):\n",
        "    \n",
        "        # create the API request URL\n",
        "    try:\n",
        "        url = 'https://api.foursquare.com/v2/venues/explore?&client_id={}&client_secret={}&v={}&ll={},{}&radius={}&limit={}'.format(\n",
        "            CLIENT_ID, \n",
        "            CLIENT_SECRET, \n",
        "            VERSION, \n",
        "            lat, \n",
        "            lng, \n",
        "            radius, \n",
        "            LIMIT)\n",
        "            \n",
        "        # make the GET request\n",
        "        results = requests.get(url).json()['response']['groups'][0]['items']\n",
        "        # return only relevant information for each nearby venue\n",
        "        venues_list.append([(\n",
        "            loc, \n",
        "            dis,  \n",
        "            x['venue']['name'], \n",
        "            x['venue']['categories'][0]['name'],\n",
        "            x['venue']['location']['distance']) for x in results])\n",
        "    except:\n",
        "        pass\n",
        "    \n",
        "venue_df = pd.DataFrame([item for venue_list in venues_list for item in venue_list])\n",
        "venue_df.columns = ['Location', \n",
        "                    'District', \n",
        "                    'Landmark', \n",
        "                    'Category',\n",
        "                    'Distance']\n",
        "venue_df =venue_df.sort_values(by='Location', ascending=True)\n",
        "venue_df.reset_index(drop=True, inplace = True)\n",
        "\n",
        "# filter the food Dataframe\n",
        "food_df= venue_df[venue_df['Category'].str.contains('Restaurant|Milk|Sweet|lunch|Kabab|Egg|Smoke|Pizza|Joint|Dim sum|Coffee|Smoke|Sweet shop|Café|Bistro|Hotel|Bar|Ice cream|Sandwich|Steak|BBQ|Liquor|Brewery|Joint|Burger|Candy|Tea|Cake|Bakery|Burrito|Snack|Bistro|Food|Breakfast|Juice|Dessert|Snack|Beer|Wine|Donut|Fast food|Salad|Diner|Fried|Chicken|Drink|Hookah|Chocolate', regex=True, case=False)]\n",
        "food_df.reset_index(drop=True, inplace = True)\n",
        "food_df.head()\n",
        "\n",
        "# drop column, 'Category'\n",
        "food_df.drop(['Category'], axis=1, inplace=True)\n",
        "\n",
        "# segregate all unique locations\n",
        "un_loc=food_df['Location'].unique()\n",
        "\n",
        "# sort the subdataframes by distance, for each location\n",
        "final_df=pd.DataFrame(columns=['Location', 'District', 'Landmark', 'Distance'])\n",
        "for loc,lc in zip(food_df['Location'], un_loc):\n",
        "    sbs = food_df[food_df['Location'] == lc]\n",
        "    sbs =sbs.sort_values(by='Distance', ascending=True)\n",
        "    final_df= final_df.append(sbs)\n",
        "    \n",
        "# drop column, 'Distance'\n",
        "final_df.reset_index(drop=True, inplace = True)\n",
        "final_df.drop(['Distance'], axis=1, inplace=True)\n",
        "\n",
        "# Merge the venues for similar locations into a dictionary\n",
        "lnd= final_df.groupby('Location')['Landmark'].agg(' ★ '.join)\n",
        "\n",
        "# Drop duplicate location rows\n",
        "final_df= final_df.drop_duplicates(subset=\"Location\", keep=\"first\")\n",
        "final_df.reset_index(drop=True, inplace = True)\n",
        "\n",
        "# insert collection of venues to the specified location in Dataframe\n",
        "for i,j in zip(final_df['Landmark'], lnd):\n",
        "    final_df.replace(i,j, inplace=True)\n",
        "    \n",
        "# drop column, 'District'\n",
        "final_df.drop(['District'], axis=1, inplace=True)\n",
        "\n",
        "# Export dataframe to csv file \n",
        "name= 'Fake_Zomato'\n",
        "export_csv = final_df.to_csv ('{}.csv'.format(name), index = None, header=True)\n",
        "\n",
        "# use get_close_matches to find area of interest and print final Info\n",
        "import difflib\n",
        "from difflib import get_close_matches\n",
        "\n",
        "lib = difflib.get_close_matches(Area, final_df['Location'])\n",
        "\n",
        "for i,j in zip(final_df['Location'], final_df['Landmark']):\n",
        "    if i==lib[0]:\n",
        "        print('\\n\\t\\t\\t\\t\\t❤❤{}❤❤\\n\\n{}\\n'.format(i,j))"
      ],
      "execution_count": null,
      "outputs": [
        {
          "output_type": "stream",
          "text": [
            "/opt/ibm/conda/miniconda3.6/lib/python3.6/site-packages/pandas/core/frame.py:3940: SettingWithCopyWarning: \n",
            "A value is trying to be set on a copy of a slice from a DataFrame\n",
            "\n",
            "See the caveats in the documentation: http://pandas.pydata.org/pandas-docs/stable/indexing.html#indexing-view-versus-copy\n",
            "  errors=errors)\n"
          ],
          "name": "stderr"
        },
        {
          "output_type": "stream",
          "text": [
            "\n",
            "\t\t\t\t\t❤❤Agram❤❤\n",
            "\n",
            "Domino's Pizza ★ Khan Saheb ★ Infinitea ★ Ooty Chocolates ★ Tandoori Taal ★ The Kitchen Of Joy ★ California Burrito ★ Retro Lounge Bar ★ Corner House ★ Vietnamese Kitchen ★ Namdhari's Fresh ★ Kim Lee ★ Annapoorani ★ Mamagoto ★ Phobidden Fruit ★ Imperial Restaurant ★ Lavonne ★ Mother Cluckers ★ Chianti Ristorante & Wine Bar ★ Krispy Kreme Doughnuts ★ High Note Bar and Dining ★ Bricklane Grill ★ Vapour - Pub and Brewery ★ Chaipatty Teafe ★ Smoor Chocolates by Bliss ★ 1131 Bar N Kitchen ★ Bhartiya Jalpan ★ Bob's Bar ★ Bite Me Cupcakes ★ Loft38 Lounge ★ Cream Centre ★ Barbeque Nation (Lido Mall) ★ Hyatt Centric Mg Road Bangalore ★ flying spaghetti monster ★ Nagarjuna ★ Bangalore Mandarin ★ Little Italy ★ Starbucks ★ Domino's Pizza ★ Bliss Chocolate Lounge ★ Sri Udupi Park ★ Drops Total Spirits ★ The Ants Cafe ★ Harry's Singapore ★ Rajdhani ★ Hotel Shalimar Bar and Restaurant ★ The Tao Terraces ★ Esplanade Calcutta Cuisine ★ Creme & Crust ★ Meghana Foods ★ Yauatcha ★ Häagen-Dazs ★ The Coffee Bean & Tea Leaf ★ Cafe 42 ★ Vivanta by Taj ★ Breadworks ★ Barbeque Nation ★ Ice Bar ★ Graze ★ The People's Art Cafe ★ Mainland China ★ Conrad Bengaluru ★ Cafe Mozaic ★ Monsoon @ The Park ★ The Grill House ★ Carnival-De-Goa ★ Stoner ★ i-BAR ★ Haagen Dazs ★ Starbucks ★ Marzipan Cafe & Bakery ★ Mama Mia Gelato ★ Terra ★ Natural Ice Cream ★ The Oberoi\n",
            "\n"
          ],
          "name": "stdout"
        }
      ]
    }
  ]
}